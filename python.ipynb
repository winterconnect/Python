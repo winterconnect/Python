{
 "cells": [
  {
   "cell_type": "markdown",
   "metadata": {},
   "source": [
    "### splitlines()"
   ]
  },
  {
   "cell_type": "code",
   "execution_count": 2,
   "metadata": {},
   "outputs": [
    {
     "name": "stdout",
     "output_type": "stream",
     "text": [
      "['강나루 건너서', '밀밭 길을']\n",
      "강나루 건너서\n",
      "밀밭 길을\n"
     ]
    }
   ],
   "source": [
    "traveler = \"\"\"강나루 건너서\\n밀밭 길을\"\"\"\n",
    "\n",
    "poet = traveler.splitlines()\n",
    "print(poet)\n",
    "for line in poet :\n",
    "    print(line)"
   ]
  },
  {
   "cell_type": "markdown",
   "metadata": {},
   "source": [
    "### join()"
   ]
  },
  {
   "cell_type": "code",
   "execution_count": 3,
   "metadata": {},
   "outputs": [
    {
     "name": "stdout",
     "output_type": "stream",
     "text": [
      "대._.한._.민._.국\n"
     ]
    }
   ],
   "source": [
    "s= '._.'\n",
    "print(s.join(\"대한민국\"))"
   ]
  },
  {
   "cell_type": "markdown",
   "metadata": {},
   "source": [
    "### just()"
   ]
  },
  {
   "cell_type": "code",
   "execution_count": 4,
   "metadata": {},
   "outputs": [
    {
     "name": "stdout",
     "output_type": "stream",
     "text": [
      "             abc              \n",
      "abc                           \n",
      "                           abc\n"
     ]
    }
   ],
   "source": [
    "message = \"abc\"\n",
    "\n",
    "print(message.center(30))\n",
    "print(message.ljust(30))\n",
    "print(message.rjust(30))"
   ]
  },
  {
   "cell_type": "markdown",
   "metadata": {},
   "source": [
    "## formatting"
   ]
  },
  {
   "cell_type": "markdown",
   "metadata": {},
   "source": [
    "### %d %()"
   ]
  },
  {
   "cell_type": "code",
   "execution_count": 6,
   "metadata": {},
   "outputs": [
    {
     "name": "stdout",
     "output_type": "stream",
     "text": [
      "궁금하면 500원!\n"
     ]
    }
   ],
   "source": [
    "price = 500\n",
    "\n",
    "print(\"궁금하면 %d원!\" %price)"
   ]
  },
  {
   "cell_type": "code",
   "execution_count": 7,
   "metadata": {},
   "outputs": [
    {
     "name": "stdout",
     "output_type": "stream",
     "text": [
      "8월 15일은 광복절이다.\n"
     ]
    }
   ],
   "source": [
    "month = 8\n",
    "day = 15\n",
    "anni = \"광복절\"\n",
    "\n",
    "print(\"%d월 %d일은 %s이다.\" %(month, day, anni))"
   ]
  },
  {
   "cell_type": "markdown",
   "metadata": {},
   "source": [
    "### .2f %() 형식"
   ]
  },
  {
   "cell_type": "code",
   "execution_count": 8,
   "metadata": {},
   "outputs": [
    {
     "name": "stdout",
     "output_type": "stream",
     "text": [
      "총점 354, 평균 88.50\n",
      "총점 275, 평균 68.75\n",
      "총점 328, 평균 82.00\n",
      "전체평균 79.75\n"
     ]
    }
   ],
   "source": [
    "score = [\n",
    "    [88,76,92,98],\n",
    "    [65,70,58,82],\n",
    "    [82,80,78,88]\n",
    "]\n",
    "\n",
    "total = 0\n",
    "totalsub = 0\n",
    "\n",
    "for student in score :\n",
    "    sum = 0\n",
    "    for subject in student :\n",
    "        sum += subject\n",
    "    subjects = len(student)\n",
    "    \n",
    "    print(\"총점 %d, 평균 %.2f\" %(sum, sum/subjects))\n",
    "    total += sum\n",
    "    totalsub += subjects\n",
    "print(\"전체평균 %.2f\" %(total/totalsub))"
   ]
  },
  {
   "cell_type": "markdown",
   "metadata": {},
   "source": [
    "## lambda"
   ]
  },
  {
   "cell_type": "markdown",
   "metadata": {},
   "source": [
    "### lambda + filter"
   ]
  },
  {
   "cell_type": "code",
   "execution_count": 9,
   "metadata": {},
   "outputs": [
    {
     "name": "stdout",
     "output_type": "stream",
     "text": [
      "45\n",
      "53\n"
     ]
    }
   ],
   "source": [
    "def flunk(s) :\n",
    "    return s < 60\n",
    "\n",
    "score = [45, 89, 72, 53, 94]\n",
    "\n",
    "for s in filter(flunk, score) :\n",
    "    print(s)"
   ]
  },
  {
   "cell_type": "code",
   "execution_count": 11,
   "metadata": {},
   "outputs": [
    {
     "name": "stdout",
     "output_type": "stream",
     "text": [
      "45\n",
      "53\n"
     ]
    }
   ],
   "source": [
    "score = [45, 89, 72, 53, 94]\n",
    "\n",
    "for s in filter(lambda x:x < 60, score):\n",
    "    print(s)"
   ]
  },
  {
   "cell_type": "markdown",
   "metadata": {},
   "source": [
    "### lambda + map"
   ]
  },
  {
   "cell_type": "code",
   "execution_count": 10,
   "metadata": {},
   "outputs": [
    {
     "name": "stdout",
     "output_type": "stream",
     "text": [
      "22.5, 44.5, 36.0, 26.5, 47.0, "
     ]
    }
   ],
   "source": [
    "def half(s) :\n",
    "    return s / 2\n",
    "\n",
    "score = [45, 89, 72, 53, 94]\n",
    "\n",
    "for s in map(half, score):\n",
    "    print(s, end = \", \")"
   ]
  },
  {
   "cell_type": "code",
   "execution_count": 12,
   "metadata": {},
   "outputs": [
    {
     "name": "stdout",
     "output_type": "stream",
     "text": [
      "22.5, 44.5, 36.0, 26.5, 47.0, "
     ]
    }
   ],
   "source": [
    "score = [45, 89, 72, 53, 94]\n",
    "\n",
    "for s in map(lambda x:x / 2, score):\n",
    "    print(s, end = ', ')"
   ]
  },
  {
   "cell_type": "markdown",
   "metadata": {},
   "source": [
    "### map"
   ]
  },
  {
   "cell_type": "code",
   "execution_count": 13,
   "metadata": {},
   "outputs": [
    {
     "name": "stdout",
     "output_type": "stream",
     "text": [
      "1.4142135623730951\n"
     ]
    }
   ],
   "source": [
    "import math\n",
    "\n",
    "print(math.sqrt(2))"
   ]
  },
  {
   "cell_type": "code",
   "execution_count": 14,
   "metadata": {},
   "outputs": [
    {
     "data": {
      "text/plain": [
       "0.7071067811865475"
      ]
     },
     "execution_count": 14,
     "metadata": {},
     "output_type": "execute_result"
    }
   ],
   "source": [
    "math.sin(math.radians(45))"
   ]
  },
  {
   "cell_type": "code",
   "execution_count": 15,
   "metadata": {},
   "outputs": [
    {
     "data": {
      "text/plain": [
       "120"
      ]
     },
     "execution_count": 15,
     "metadata": {},
     "output_type": "execute_result"
    }
   ],
   "source": [
    "math.factorial(5)"
   ]
  },
  {
   "cell_type": "code",
   "execution_count": null,
   "metadata": {},
   "outputs": [],
   "source": [
    "import turtle as t\n",
    "\n",
    "t.penup()\n",
    "t.goto(-720,0)\n",
    "t.pendown()\n",
    "for x in range(-720, 720) :\n",
    "    t.goto(x, math.sin(math.radians(x)) * 100)\n",
    "t.done()"
   ]
  },
  {
   "cell_type": "markdown",
   "metadata": {},
   "source": [
    "### statistics"
   ]
  },
  {
   "cell_type": "code",
   "execution_count": 16,
   "metadata": {},
   "outputs": [
    {
     "name": "stdout",
     "output_type": "stream",
     "text": [
      "61.666666666666664\n",
      "53.14586994727592\n",
      "65.0\n",
      "60\n",
      "70\n"
     ]
    }
   ],
   "source": [
    "import statistics\n",
    "\n",
    "score = [30, 40, 60, 70, 80, 90]\n",
    "print(statistics.mean(score))\n",
    "print(statistics.harmonic_mean(score))\n",
    "print(statistics.median(score))\n",
    "print(statistics.median_low(score))\n",
    "print(statistics.median_high(score))"
   ]
  },
  {
   "cell_type": "markdown",
   "metadata": {},
   "source": [
    "### calendar"
   ]
  },
  {
   "cell_type": "code",
   "execution_count": 17,
   "metadata": {},
   "outputs": [
    {
     "name": "stdout",
     "output_type": "stream",
     "text": [
      "                                  2018\n",
      "\n",
      "      January                   February                   March\n",
      "Mo Tu We Th Fr Sa Su      Mo Tu We Th Fr Sa Su      Mo Tu We Th Fr Sa Su\n",
      " 1  2  3  4  5  6  7                1  2  3  4                1  2  3  4\n",
      " 8  9 10 11 12 13 14       5  6  7  8  9 10 11       5  6  7  8  9 10 11\n",
      "15 16 17 18 19 20 21      12 13 14 15 16 17 18      12 13 14 15 16 17 18\n",
      "22 23 24 25 26 27 28      19 20 21 22 23 24 25      19 20 21 22 23 24 25\n",
      "29 30 31                  26 27 28                  26 27 28 29 30 31\n",
      "\n",
      "       April                      May                       June\n",
      "Mo Tu We Th Fr Sa Su      Mo Tu We Th Fr Sa Su      Mo Tu We Th Fr Sa Su\n",
      "                   1          1  2  3  4  5  6                   1  2  3\n",
      " 2  3  4  5  6  7  8       7  8  9 10 11 12 13       4  5  6  7  8  9 10\n",
      " 9 10 11 12 13 14 15      14 15 16 17 18 19 20      11 12 13 14 15 16 17\n",
      "16 17 18 19 20 21 22      21 22 23 24 25 26 27      18 19 20 21 22 23 24\n",
      "23 24 25 26 27 28 29      28 29 30 31               25 26 27 28 29 30\n",
      "30\n",
      "\n",
      "        July                     August                  September\n",
      "Mo Tu We Th Fr Sa Su      Mo Tu We Th Fr Sa Su      Mo Tu We Th Fr Sa Su\n",
      "                   1             1  2  3  4  5                      1  2\n",
      " 2  3  4  5  6  7  8       6  7  8  9 10 11 12       3  4  5  6  7  8  9\n",
      " 9 10 11 12 13 14 15      13 14 15 16 17 18 19      10 11 12 13 14 15 16\n",
      "16 17 18 19 20 21 22      20 21 22 23 24 25 26      17 18 19 20 21 22 23\n",
      "23 24 25 26 27 28 29      27 28 29 30 31            24 25 26 27 28 29 30\n",
      "30 31\n",
      "\n",
      "      October                   November                  December\n",
      "Mo Tu We Th Fr Sa Su      Mo Tu We Th Fr Sa Su      Mo Tu We Th Fr Sa Su\n",
      " 1  2  3  4  5  6  7                1  2  3  4                      1  2\n",
      " 8  9 10 11 12 13 14       5  6  7  8  9 10 11       3  4  5  6  7  8  9\n",
      "15 16 17 18 19 20 21      12 13 14 15 16 17 18      10 11 12 13 14 15 16\n",
      "22 23 24 25 26 27 28      19 20 21 22 23 24 25      17 18 19 20 21 22 23\n",
      "29 30 31                  26 27 28 29 30            24 25 26 27 28 29 30\n",
      "                                                    31\n",
      "\n",
      "    January 2019\n",
      "Mo Tu We Th Fr Sa Su\n",
      "    1  2  3  4  5  6\n",
      " 7  8  9 10 11 12 13\n",
      "14 15 16 17 18 19 20\n",
      "21 22 23 24 25 26 27\n",
      "28 29 30 31\n",
      "\n"
     ]
    }
   ],
   "source": [
    "import calendar\n",
    "\n",
    "print(calendar.calendar(2018))\n",
    "print(calendar.month(2019, 1))"
   ]
  },
  {
   "cell_type": "code",
   "execution_count": 18,
   "metadata": {},
   "outputs": [
    {
     "name": "stdout",
     "output_type": "stream",
     "text": [
      "    January 2019\n",
      "Mo Tu We Th Fr Sa Su\n",
      "    1  2  3  4  5  6\n",
      " 7  8  9 10 11 12 13\n",
      "14 15 16 17 18 19 20\n",
      "21 22 23 24 25 26 27\n",
      "28 29 30 31\n"
     ]
    }
   ],
   "source": [
    "calendar.prmonth(2019,1)"
   ]
  },
  {
   "cell_type": "code",
   "execution_count": 19,
   "metadata": {},
   "outputs": [],
   "source": [
    "calendar.setfirstweekday(6)"
   ]
  },
  {
   "cell_type": "code",
   "execution_count": 20,
   "metadata": {},
   "outputs": [
    {
     "name": "stdout",
     "output_type": "stream",
     "text": [
      "6\n",
      "광복절은 일요일이다.\n"
     ]
    }
   ],
   "source": [
    "import calendar\n",
    "\n",
    "yoil = ['월' , '화' , '수' , '목' , '금' , '토' , '일']\n",
    "day = calendar.weekday(2021,8,15)\n",
    "print(day)\n",
    "print(\"광복절은\", yoil[day] + \"요일이다.\")"
   ]
  },
  {
   "cell_type": "code",
   "execution_count": 21,
   "metadata": {},
   "outputs": [],
   "source": [
    "# 함수로 만들 수도 있다\n",
    "\n",
    "def weekdays(year, month, day) :\n",
    "    yoil = ['월' , '화' , '수' , '목' , '금' , '토' , '일']\n",
    "    date = calendar.weekday(year, month, day)\n",
    "    \n",
    "    return (\"{}년 {}월 {}일은 {}요일입니다.\" .format(year, month, day, yoil[date]))"
   ]
  },
  {
   "cell_type": "code",
   "execution_count": 22,
   "metadata": {},
   "outputs": [
    {
     "data": {
      "text/plain": [
       "'2021년 1월 20일은 수요일입니다.'"
      ]
     },
     "execution_count": 22,
     "metadata": {},
     "output_type": "execute_result"
    }
   ],
   "source": [
    "weekdays(2021, 1, 20)"
   ]
  },
  {
   "cell_type": "markdown",
   "metadata": {},
   "source": [
    "## random"
   ]
  },
  {
   "cell_type": "markdown",
   "metadata": {},
   "source": [
    "### random.random()"
   ]
  },
  {
   "cell_type": "code",
   "execution_count": 26,
   "metadata": {},
   "outputs": [],
   "source": [
    "import random"
   ]
  },
  {
   "cell_type": "code",
   "execution_count": 25,
   "metadata": {},
   "outputs": [
    {
     "name": "stdout",
     "output_type": "stream",
     "text": [
      "0.26808002252113416\n",
      "0.17238198104643665\n",
      "0.7615144583704289\n",
      "0.9003437873837313\n",
      "0.43709733689931896\n"
     ]
    }
   ],
   "source": [
    "for i in range(5) :\n",
    "    print(random.random())"
   ]
  },
  {
   "cell_type": "markdown",
   "metadata": {},
   "source": [
    "### random.choice()"
   ]
  },
  {
   "cell_type": "code",
   "execution_count": 28,
   "metadata": {},
   "outputs": [
    {
     "name": "stdout",
     "output_type": "stream",
     "text": [
      "짜장면\n"
     ]
    }
   ],
   "source": [
    "food = [\"짜장면\" , \"짬뽕\" , \"탕수육\" , \"군만두\"]\n",
    "print(random.choice(food))"
   ]
  },
  {
   "cell_type": "markdown",
   "metadata": {},
   "source": [
    "### random.shuffle()"
   ]
  },
  {
   "cell_type": "code",
   "execution_count": 29,
   "metadata": {},
   "outputs": [
    {
     "name": "stdout",
     "output_type": "stream",
     "text": [
      "['짜장면', '짬뽕', '탕수육', '군만두']\n",
      "['짜장면', '군만두', '탕수육', '짬뽕']\n"
     ]
    }
   ],
   "source": [
    "food = [\"짜장면\" , \"짬뽕\" , \"탕수육\" , \"군만두\"]\n",
    "print(food)\n",
    "random.shuffle(food)\n",
    "print(food)"
   ]
  },
  {
   "cell_type": "markdown",
   "metadata": {},
   "source": [
    "### random.sample"
   ]
  },
  {
   "cell_type": "code",
   "execution_count": 30,
   "metadata": {},
   "outputs": [
    {
     "data": {
      "text/plain": [
       "['짜장면', '탕수육']"
      ]
     },
     "execution_count": 30,
     "metadata": {},
     "output_type": "execute_result"
    }
   ],
   "source": [
    "food = [\"짜장면\" , \"짬뽕\" , \"탕수육\" , \"군만두\"]\n",
    "random.sample(food, 2)"
   ]
  },
  {
   "cell_type": "code",
   "execution_count": 31,
   "metadata": {},
   "outputs": [
    {
     "name": "stdout",
     "output_type": "stream",
     "text": [
      "[43, 33, 34, 20, 37, 26]\n"
     ]
    }
   ],
   "source": [
    "# 로또를 만들어보자!\n",
    "\n",
    "nums = random.sample(range(1,46), 6)\n",
    "nums.sort\n",
    "print(nums)"
   ]
  },
  {
   "cell_type": "markdown",
   "metadata": {},
   "source": [
    "### randint()"
   ]
  },
  {
   "cell_type": "code",
   "execution_count": 32,
   "metadata": {
    "collapsed": true
   },
   "outputs": [
    {
     "ename": "KeyboardInterrupt",
     "evalue": "Interrupted by user",
     "output_type": "error",
     "traceback": [
      "\u001b[0;31m---------------------------------------------------------------------------\u001b[0m",
      "\u001b[0;31mKeyboardInterrupt\u001b[0m                         Traceback (most recent call last)",
      "\u001b[0;32m<ipython-input-32-34c38252a5ee>\u001b[0m in \u001b[0;36m<module>\u001b[0;34m\u001b[0m\n\u001b[1;32m      8\u001b[0m     \u001b[0mb\u001b[0m \u001b[0;34m=\u001b[0m \u001b[0mrandom\u001b[0m\u001b[0;34m.\u001b[0m\u001b[0mrandint\u001b[0m\u001b[0;34m(\u001b[0m\u001b[0;36m1\u001b[0m\u001b[0;34m,\u001b[0m\u001b[0;36m9\u001b[0m\u001b[0;34m)\u001b[0m\u001b[0;34m\u001b[0m\u001b[0;34m\u001b[0m\u001b[0m\n\u001b[1;32m      9\u001b[0m     \u001b[0mquestion\u001b[0m \u001b[0;34m=\u001b[0m \u001b[0;34m\"%d + %d = ?\"\u001b[0m \u001b[0;34m%\u001b[0m \u001b[0;34m(\u001b[0m\u001b[0ma\u001b[0m\u001b[0;34m,\u001b[0m\u001b[0mb\u001b[0m\u001b[0;34m)\u001b[0m\u001b[0;34m\u001b[0m\u001b[0;34m\u001b[0m\u001b[0m\n\u001b[0;32m---> 10\u001b[0;31m     \u001b[0mc\u001b[0m \u001b[0;34m=\u001b[0m \u001b[0mint\u001b[0m\u001b[0;34m(\u001b[0m\u001b[0minput\u001b[0m\u001b[0;34m(\u001b[0m\u001b[0mquestion\u001b[0m\u001b[0;34m)\u001b[0m\u001b[0;34m)\u001b[0m\u001b[0;34m\u001b[0m\u001b[0;34m\u001b[0m\u001b[0m\n\u001b[0m\u001b[1;32m     11\u001b[0m \u001b[0;34m\u001b[0m\u001b[0m\n\u001b[1;32m     12\u001b[0m     \u001b[0;32mif\u001b[0m \u001b[0mc\u001b[0m \u001b[0;34m==\u001b[0m \u001b[0ma\u001b[0m \u001b[0;34m+\u001b[0m \u001b[0mb\u001b[0m \u001b[0;34m:\u001b[0m\u001b[0;34m\u001b[0m\u001b[0;34m\u001b[0m\u001b[0m\n",
      "\u001b[0;32m/usr/local/lib/python3.9/site-packages/ipykernel/kernelbase.py\u001b[0m in \u001b[0;36mraw_input\u001b[0;34m(self, prompt)\u001b[0m\n\u001b[1;32m    858\u001b[0m                 \u001b[0;34m\"raw_input was called, but this frontend does not support input requests.\"\u001b[0m\u001b[0;34m\u001b[0m\u001b[0;34m\u001b[0m\u001b[0m\n\u001b[1;32m    859\u001b[0m             )\n\u001b[0;32m--> 860\u001b[0;31m         return self._input_request(str(prompt),\n\u001b[0m\u001b[1;32m    861\u001b[0m             \u001b[0mself\u001b[0m\u001b[0;34m.\u001b[0m\u001b[0m_parent_ident\u001b[0m\u001b[0;34m,\u001b[0m\u001b[0;34m\u001b[0m\u001b[0;34m\u001b[0m\u001b[0m\n\u001b[1;32m    862\u001b[0m             \u001b[0mself\u001b[0m\u001b[0;34m.\u001b[0m\u001b[0m_parent_header\u001b[0m\u001b[0;34m,\u001b[0m\u001b[0;34m\u001b[0m\u001b[0;34m\u001b[0m\u001b[0m\n",
      "\u001b[0;32m/usr/local/lib/python3.9/site-packages/ipykernel/kernelbase.py\u001b[0m in \u001b[0;36m_input_request\u001b[0;34m(self, prompt, ident, parent, password)\u001b[0m\n\u001b[1;32m    902\u001b[0m             \u001b[0;32mexcept\u001b[0m \u001b[0mKeyboardInterrupt\u001b[0m\u001b[0;34m:\u001b[0m\u001b[0;34m\u001b[0m\u001b[0;34m\u001b[0m\u001b[0m\n\u001b[1;32m    903\u001b[0m                 \u001b[0;31m# re-raise KeyboardInterrupt, to truncate traceback\u001b[0m\u001b[0;34m\u001b[0m\u001b[0;34m\u001b[0m\u001b[0;34m\u001b[0m\u001b[0m\n\u001b[0;32m--> 904\u001b[0;31m                 \u001b[0;32mraise\u001b[0m \u001b[0mKeyboardInterrupt\u001b[0m\u001b[0;34m(\u001b[0m\u001b[0;34m\"Interrupted by user\"\u001b[0m\u001b[0;34m)\u001b[0m \u001b[0;32mfrom\u001b[0m \u001b[0;32mNone\u001b[0m\u001b[0;34m\u001b[0m\u001b[0;34m\u001b[0m\u001b[0m\n\u001b[0m\u001b[1;32m    905\u001b[0m             \u001b[0;32mexcept\u001b[0m \u001b[0mException\u001b[0m \u001b[0;32mas\u001b[0m \u001b[0me\u001b[0m\u001b[0;34m:\u001b[0m\u001b[0;34m\u001b[0m\u001b[0;34m\u001b[0m\u001b[0m\n\u001b[1;32m    906\u001b[0m                 \u001b[0mself\u001b[0m\u001b[0;34m.\u001b[0m\u001b[0mlog\u001b[0m\u001b[0;34m.\u001b[0m\u001b[0mwarning\u001b[0m\u001b[0;34m(\u001b[0m\u001b[0;34m\"Invalid Message:\"\u001b[0m\u001b[0;34m,\u001b[0m \u001b[0mexc_info\u001b[0m\u001b[0;34m=\u001b[0m\u001b[0;32mTrue\u001b[0m\u001b[0;34m)\u001b[0m\u001b[0;34m\u001b[0m\u001b[0;34m\u001b[0m\u001b[0m\n",
      "\u001b[0;31mKeyboardInterrupt\u001b[0m: Interrupted by user"
     ]
    }
   ],
   "source": [
    "# 산수문제 내기! (전역변수, 지역변수에 대해 생각해보자)\n",
    "\n",
    "\n",
    "count = 0\n",
    "\n",
    "while True :\n",
    "    a = random.randint(1,9)\n",
    "    b = random.randint(1,9)\n",
    "    question = \"%d + %d = ?\" % (a,b)\n",
    "    c = int(input(question))\n",
    "    \n",
    "    if c == a + b :\n",
    "        print(\"정답입니다.\")\n",
    "        count += 1\n",
    "        \n",
    "    elif c == 0 :\n",
    "        break\n",
    "    \n",
    "    else :\n",
    "        print(\"틀렸습니다.\")\n",
    "    \n",
    "print(\"정답의 개수는 \" + str(count) + \"입니다.\")"
   ]
  },
  {
   "cell_type": "code",
   "execution_count": 33,
   "metadata": {
    "collapsed": true
   },
   "outputs": [
    {
     "ename": "KeyboardInterrupt",
     "evalue": "Interrupted by user",
     "output_type": "error",
     "traceback": [
      "\u001b[0;31m---------------------------------------------------------------------------\u001b[0m",
      "\u001b[0;31mKeyboardInterrupt\u001b[0m                         Traceback (most recent call last)",
      "\u001b[0;32m<ipython-input-33-c4e1e0a19a82>\u001b[0m in \u001b[0;36m<module>\u001b[0;34m\u001b[0m\n\u001b[1;32m     24\u001b[0m     \u001b[0mquestion\u001b[0m \u001b[0;34m=\u001b[0m \u001b[0;34m\"%d %s %d = ? (끝낼때는 0)\"\u001b[0m \u001b[0;34m%\u001b[0m \u001b[0;34m(\u001b[0m\u001b[0ma\u001b[0m\u001b[0;34m,\u001b[0m \u001b[0mmark\u001b[0m\u001b[0;34m,\u001b[0m \u001b[0mb\u001b[0m\u001b[0;34m)\u001b[0m\u001b[0;34m\u001b[0m\u001b[0;34m\u001b[0m\u001b[0m\n\u001b[1;32m     25\u001b[0m \u001b[0;34m\u001b[0m\u001b[0m\n\u001b[0;32m---> 26\u001b[0;31m     \u001b[0mc\u001b[0m \u001b[0;34m=\u001b[0m \u001b[0mint\u001b[0m\u001b[0;34m(\u001b[0m\u001b[0minput\u001b[0m\u001b[0;34m(\u001b[0m\u001b[0mquestion\u001b[0m\u001b[0;34m)\u001b[0m\u001b[0;34m)\u001b[0m\u001b[0;34m\u001b[0m\u001b[0;34m\u001b[0m\u001b[0m\n\u001b[0m\u001b[1;32m     27\u001b[0m \u001b[0;34m\u001b[0m\u001b[0m\n\u001b[1;32m     28\u001b[0m     \u001b[0;32mif\u001b[0m \u001b[0mc\u001b[0m \u001b[0;34m==\u001b[0m \u001b[0;36m0\u001b[0m \u001b[0;34m:\u001b[0m\u001b[0;34m\u001b[0m\u001b[0;34m\u001b[0m\u001b[0m\n",
      "\u001b[0;32m/usr/local/lib/python3.9/site-packages/ipykernel/kernelbase.py\u001b[0m in \u001b[0;36mraw_input\u001b[0;34m(self, prompt)\u001b[0m\n\u001b[1;32m    858\u001b[0m                 \u001b[0;34m\"raw_input was called, but this frontend does not support input requests.\"\u001b[0m\u001b[0;34m\u001b[0m\u001b[0;34m\u001b[0m\u001b[0m\n\u001b[1;32m    859\u001b[0m             )\n\u001b[0;32m--> 860\u001b[0;31m         return self._input_request(str(prompt),\n\u001b[0m\u001b[1;32m    861\u001b[0m             \u001b[0mself\u001b[0m\u001b[0;34m.\u001b[0m\u001b[0m_parent_ident\u001b[0m\u001b[0;34m,\u001b[0m\u001b[0;34m\u001b[0m\u001b[0;34m\u001b[0m\u001b[0m\n\u001b[1;32m    862\u001b[0m             \u001b[0mself\u001b[0m\u001b[0;34m.\u001b[0m\u001b[0m_parent_header\u001b[0m\u001b[0;34m,\u001b[0m\u001b[0;34m\u001b[0m\u001b[0;34m\u001b[0m\u001b[0m\n",
      "\u001b[0;32m/usr/local/lib/python3.9/site-packages/ipykernel/kernelbase.py\u001b[0m in \u001b[0;36m_input_request\u001b[0;34m(self, prompt, ident, parent, password)\u001b[0m\n\u001b[1;32m    902\u001b[0m             \u001b[0;32mexcept\u001b[0m \u001b[0mKeyboardInterrupt\u001b[0m\u001b[0;34m:\u001b[0m\u001b[0;34m\u001b[0m\u001b[0;34m\u001b[0m\u001b[0m\n\u001b[1;32m    903\u001b[0m                 \u001b[0;31m# re-raise KeyboardInterrupt, to truncate traceback\u001b[0m\u001b[0;34m\u001b[0m\u001b[0;34m\u001b[0m\u001b[0;34m\u001b[0m\u001b[0m\n\u001b[0;32m--> 904\u001b[0;31m                 \u001b[0;32mraise\u001b[0m \u001b[0mKeyboardInterrupt\u001b[0m\u001b[0;34m(\u001b[0m\u001b[0;34m\"Interrupted by user\"\u001b[0m\u001b[0;34m)\u001b[0m \u001b[0;32mfrom\u001b[0m \u001b[0;32mNone\u001b[0m\u001b[0;34m\u001b[0m\u001b[0;34m\u001b[0m\u001b[0m\n\u001b[0m\u001b[1;32m    905\u001b[0m             \u001b[0;32mexcept\u001b[0m \u001b[0mException\u001b[0m \u001b[0;32mas\u001b[0m \u001b[0me\u001b[0m\u001b[0;34m:\u001b[0m\u001b[0;34m\u001b[0m\u001b[0;34m\u001b[0m\u001b[0m\n\u001b[1;32m    906\u001b[0m                 \u001b[0mself\u001b[0m\u001b[0;34m.\u001b[0m\u001b[0mlog\u001b[0m\u001b[0;34m.\u001b[0m\u001b[0mwarning\u001b[0m\u001b[0;34m(\u001b[0m\u001b[0;34m\"Invalid Message:\"\u001b[0m\u001b[0;34m,\u001b[0m \u001b[0mexc_info\u001b[0m\u001b[0;34m=\u001b[0m\u001b[0;32mTrue\u001b[0m\u001b[0;34m)\u001b[0m\u001b[0;34m\u001b[0m\u001b[0;34m\u001b[0m\u001b[0m\n",
      "\u001b[0;31mKeyboardInterrupt\u001b[0m: Interrupted by user"
     ]
    }
   ],
   "source": [
    "# +, -, * 연산자 모두 사용한 산술문제\n",
    "\n",
    "count = 0\n",
    "\n",
    "while True :\n",
    "    a = random.randint(1,99)\n",
    "    b = random.randint(1,99)\n",
    "    op = random.randint(1,3)\n",
    "    \n",
    "    if op == 1 :\n",
    "        ans = a + b\n",
    "        mark = \"+\"\n",
    "        \n",
    "    elif op == 2 :\n",
    "        if (a < b) :\n",
    "            a, b = b, a\n",
    "        ans = a - b\n",
    "        mark = \"-\"\n",
    "    \n",
    "    else :\n",
    "        ans = a * b\n",
    "        mark = \"*\"\n",
    "\n",
    "    question = \"%d %s %d = ? (끝낼때는 0)\" % (a, mark, b)\n",
    "\n",
    "    c = int(input(question))\n",
    " \n",
    "    if c == 0 :\n",
    "        break\n",
    "    elif c == ans :\n",
    "        print(\"정답입니다\")\n",
    "        count += 1\n",
    "    else :\n",
    "        print(\"틀렸습니다\")\n",
    "\n",
    "print(\"정답의 개수는 \" + str(count) + \"입니다.\")"
   ]
  },
  {
   "cell_type": "code",
   "execution_count": 34,
   "metadata": {},
   "outputs": [
    {
     "name": "stdout",
     "output_type": "stream",
     "text": [
      "숫자를 맞춰보세요.(끝낼 때 0): 40\n",
      "너무 작습니다. 다시 도전해보세요.\n",
      "숫자를 맞춰보세요.(끝낼 때 0): 20\n",
      "너무 작습니다. 다시 도전해보세요.\n",
      "숫자를 맞춰보세요.(끝낼 때 0): 80\n",
      "너무 큽니다. 다시 도전해보세요.\n",
      "숫자를 맞춰보세요.(끝낼 때 0): 60\n",
      "너무 큽니다. 다시 도전해보세요.\n",
      "숫자를 맞춰보세요.(끝낼 때 0): 50\n",
      "너무 큽니다. 다시 도전해보세요.\n",
      "숫자를 맞춰보세요.(끝낼 때 0): 45\n",
      "너무 큽니다. 다시 도전해보세요.\n",
      "숫자를 맞춰보세요.(끝낼 때 0): 43\n",
      "너무 큽니다. 다시 도전해보세요.\n",
      "숫자를 맞춰보세요.(끝낼 때 0): 42\n",
      "정답입니다.\n",
      "8번 만에 맞추셨네요\n"
     ]
    }
   ],
   "source": [
    "# 숫자맞추기 게임\n",
    "\n",
    "a = random.randint(1,100)\n",
    "count = 0\n",
    "while True :\n",
    "    c = int(input(\"숫자를 맞춰보세요.(끝낼 때 0): \"))\n",
    "    count += 1    \n",
    "    if c == 0 :\n",
    "        break\n",
    "    if c > a :\n",
    "        print(\"너무 큽니다. 다시 도전해보세요.\")\n",
    "    elif c < a :\n",
    "        print(\"너무 작습니다. 다시 도전해보세요.\")\n",
    "    else :\n",
    "        print(\"정답입니다.\")\n",
    "        print(\"{}번 만에 맞추셨네요\" .format(count))\n",
    "        break"
   ]
  },
  {
   "cell_type": "markdown",
   "metadata": {},
   "source": [
    "## 파일 입출력\n",
    "### open(), close()\n",
    "### read, write: HDD 에서 memory로 데이터를 가져오고, 내보내는것\n",
    "### load, save"
   ]
  },
  {
   "cell_type": "code",
   "execution_count": 44,
   "metadata": {},
   "outputs": [],
   "source": [
    "f = open(\"live.txt\" ,\"wt\")\n",
    "f.write(\"\"\"삶이 그대를 속일지라도\n",
    "슬퍼하거나 노하지 말라!\n",
    "우울한 날들을 견디면\n",
    "믿으라, 기쁨의 날이 오리니\"\"\")\n",
    "f.close()"
   ]
  },
  {
   "cell_type": "code",
   "execution_count": 36,
   "metadata": {},
   "outputs": [
    {
     "name": "stdout",
     "output_type": "stream",
     "text": [
      "삶이 그대를 속일지라도\n",
      "슬퍼하거나 노하지 말라!\n",
      "우울한 날들을 견디면\n",
      "믿으라, 기쁨의 날이 오리니\n"
     ]
    }
   ],
   "source": [
    "try :\n",
    "    f = open(\"live.txt\" , \"rt\")\n",
    "    text = f.read()\n",
    "    print(text)\n",
    "except FileNotFoundError:\n",
    "    print(\"파일이 없습니다.\")\n",
    "finally :\n",
    "    f.close()"
   ]
  },
  {
   "cell_type": "code",
   "execution_count": 37,
   "metadata": {},
   "outputs": [
    {
     "name": "stdout",
     "output_type": "stream",
     "text": [
      "삶이 그대를 속일지라도\n",
      "슬퍼하거나 노하지 말라!\n",
      "우울한 날들을 견디면\n",
      "믿으라, 기쁨의 날이 오리니"
     ]
    }
   ],
   "source": [
    "f = open(\"live.txt\" , \"rt\")\n",
    "\n",
    "while True :\n",
    "    text = f.read(10)\n",
    "    if len(text) == 0 : break\n",
    "    print(text, end = '')\n",
    "f.close()"
   ]
  },
  {
   "cell_type": "code",
   "execution_count": 38,
   "metadata": {},
   "outputs": [
    {
     "name": "stdout",
     "output_type": "stream",
     "text": [
      "1 : 삶이 그대를 속일지라도\n",
      "2 : 슬퍼하거나 노하지 말라!\n",
      "3 : 우울한 날들을 견디면\n",
      "4 : 믿으라, 기쁨의 날이 오리니\n"
     ]
    }
   ],
   "source": [
    "f = open(\"live.txt\" , \"rt\")\n",
    "\n",
    "text = \"\"\n",
    "line = 1\n",
    "\n",
    "while True :\n",
    "    row = f.readline()\n",
    "    if not row : break\n",
    "    text += str(line) + \" : \" + row    \n",
    "    line += 1\n",
    "f.close()\n",
    "print(text)"
   ]
  },
  {
   "cell_type": "code",
   "execution_count": 39,
   "metadata": {},
   "outputs": [
    {
     "name": "stdout",
     "output_type": "stream",
     "text": [
      "삶이 그대를 속일지라도\n",
      "슬퍼하거나 노하지 말라!\n",
      "우울한 날들을 견디면\n",
      "믿으라, 기쁨의 날이 오리니"
     ]
    }
   ],
   "source": [
    "f = open(\"live.txt\" , \"rt\")\n",
    "\n",
    "rows = f.readlines()\n",
    "for row in rows :\n",
    "    print(row, end = '')\n",
    "f.close()"
   ]
  },
  {
   "cell_type": "code",
   "execution_count": 40,
   "metadata": {},
   "outputs": [
    {
     "name": "stdout",
     "output_type": "stream",
     "text": [
      "삶이 그대를 속일지라도\n",
      "슬퍼하거나 노하지 말라!\n",
      "우울한 날들을 견디면\n",
      "믿으라, 기쁨의 날이 오리니"
     ]
    }
   ],
   "source": [
    "f = open(\"live.txt\" , \"rt\")\n",
    "for line in f :\n",
    "    print(line, end = '')\n",
    "f.close()"
   ]
  },
  {
   "cell_type": "code",
   "execution_count": 46,
   "metadata": {},
   "outputs": [],
   "source": [
    "f = open(\"live.txt\" , \"at\")\n",
    "f.write(\"\\n\\n푸쉬킨 형님의 말씀이었습니다.\")\n",
    "f.close()"
   ]
  },
  {
   "cell_type": "markdown",
   "metadata": {},
   "source": [
    "### with 구문: 자동으로 close"
   ]
  },
  {
   "cell_type": "code",
   "execution_count": 47,
   "metadata": {},
   "outputs": [
    {
     "name": "stdout",
     "output_type": "stream",
     "text": [
      "삶이 그대를 속일지라도\n",
      "슬퍼하거나 노하지 말라!\n",
      "우울한 날들을 견디면\n",
      "믿으라, 기쁨의 날이 오리니\n",
      "\n",
      "푸쉬킨 형님의 말씀이었습니다.\n"
     ]
    }
   ],
   "source": [
    "with open(\"live.txt\" , \"rt\") as f :\n",
    "    text = f.read()\n",
    "print(text)"
   ]
  },
  {
   "cell_type": "markdown",
   "metadata": {},
   "source": [
    "## 파일관리"
   ]
  },
  {
   "cell_type": "markdown",
   "metadata": {},
   "source": [
    "### shutil.copy()"
   ]
  },
  {
   "cell_type": "code",
   "execution_count": 48,
   "metadata": {},
   "outputs": [
    {
     "data": {
      "text/plain": [
       "'live2.txt'"
      ]
     },
     "execution_count": 48,
     "metadata": {},
     "output_type": "execute_result"
    }
   ],
   "source": [
    "import shutil\n",
    "\n",
    "shutil.copy(\"live.txt\" , \"live2.txt\")"
   ]
  },
  {
   "cell_type": "markdown",
   "metadata": {},
   "source": [
    "### 카피의 알고리즘은 무엇일까?\n",
    "    1. 파일(live.txt)을 연다 (read용)\n",
    "    2. 파일(live2.txt)을 연다 (write용)\n",
    "    3. 하드디스크의 파일을 메모리에 올린다\n",
    "        - live.txt를 읽어온다\n",
    "    4. 복사가 될 새 파일을 만든다\n",
    "        - live2.txt(w) 준비(메모리)\n",
    "    5. 한 단어씩 read,write 반복\n",
    "    6. 조건을 써서 EOF 까지 반복 진행\n",
    "    7. 파일(live.txt, live2.txt)을 닫아준다(close)"
   ]
  },
  {
   "cell_type": "markdown",
   "metadata": {},
   "source": [
    "### os.listdir(): "
   ]
  },
  {
   "cell_type": "code",
   "execution_count": 49,
   "metadata": {},
   "outputs": [
    {
     "name": "stdout",
     "output_type": "stream",
     "text": [
      "멜로디데이-All about.mp3\n",
      "아이유-너랑 나.mp3\n",
      "인증샷-수영복.jpg\n",
      "싸이-강남스타일.mp3\n",
      "알리-서약.mp3\n",
      "다비치-안녕이라고 말하지마.mp3\n"
     ]
    }
   ],
   "source": [
    "import os\n",
    "\n",
    "files = os.listdir(\"/Users/winter/workspace/campus/test\")\n",
    "\n",
    "for f in files :\n",
    "    print(f)"
   ]
  },
  {
   "cell_type": "markdown",
   "metadata": {},
   "source": [
    "### 디렉토리인지 아닌지 확인하는 방법"
   ]
  },
  {
   "cell_type": "code",
   "execution_count": 50,
   "metadata": {},
   "outputs": [],
   "source": [
    "import os\n",
    "\n",
    "def dumpdir(path) :\n",
    "    files = os.listdir(path)\n",
    "    \n",
    "    for f in files :\n",
    "        fullpath = path + \"/\" + f\n",
    "        if os.path.isdir(fullpath) :\n",
    "            print(\"[\" + fullpath + \"]\")\n",
    "            dumpdir(fullpath) # 재귀함수\n",
    "        else :\n",
    "            print(\"\\t\" + fullpath)"
   ]
  },
  {
   "cell_type": "code",
   "execution_count": 51,
   "metadata": {},
   "outputs": [
    {
     "name": "stdout",
     "output_type": "stream",
     "text": [
      "\t/Users/winter/workspace/python/live2.txt\n",
      "\t/Users/winter/workspace/python/live.txt\n",
      "[/Users/winter/workspace/python/.ipynb_checkpoints]\n",
      "\t/Users/winter/workspace/python/.ipynb_checkpoints/python-checkpoint.ipynb\n",
      "\t/Users/winter/workspace/python/python.ipynb\n",
      "[/Users/winter/workspace/python/.git]\n",
      "\t/Users/winter/workspace/python/.git/config\n",
      "[/Users/winter/workspace/python/.git/objects]\n",
      "[/Users/winter/workspace/python/.git/objects/3b]\n",
      "\t/Users/winter/workspace/python/.git/objects/3b/b657faf1005de2942bcde36df559853711c57b\n",
      "[/Users/winter/workspace/python/.git/objects/pack]\n",
      "[/Users/winter/workspace/python/.git/objects/16]\n",
      "\t/Users/winter/workspace/python/.git/objects/16/aa3de86ac01e875d00e965cf9f2aba67d2dd42\n",
      "[/Users/winter/workspace/python/.git/objects/4d]\n",
      "\t/Users/winter/workspace/python/.git/objects/4d/404931b709f514e4f66c50c84fe1f48b26650d\n",
      "[/Users/winter/workspace/python/.git/objects/info]\n",
      "\t/Users/winter/workspace/python/.git/HEAD\n",
      "[/Users/winter/workspace/python/.git/info]\n",
      "\t/Users/winter/workspace/python/.git/info/exclude\n",
      "[/Users/winter/workspace/python/.git/logs]\n",
      "\t/Users/winter/workspace/python/.git/logs/HEAD\n",
      "[/Users/winter/workspace/python/.git/logs/refs]\n",
      "[/Users/winter/workspace/python/.git/logs/refs/heads]\n",
      "\t/Users/winter/workspace/python/.git/logs/refs/heads/master\n",
      "[/Users/winter/workspace/python/.git/logs/refs/remotes]\n",
      "[/Users/winter/workspace/python/.git/logs/refs/remotes/origin]\n",
      "\t/Users/winter/workspace/python/.git/logs/refs/remotes/origin/master\n",
      "\t/Users/winter/workspace/python/.git/description\n",
      "[/Users/winter/workspace/python/.git/hooks]\n",
      "\t/Users/winter/workspace/python/.git/hooks/commit-msg.sample\n",
      "\t/Users/winter/workspace/python/.git/hooks/pre-rebase.sample\n",
      "\t/Users/winter/workspace/python/.git/hooks/pre-commit.sample\n",
      "\t/Users/winter/workspace/python/.git/hooks/applypatch-msg.sample\n",
      "\t/Users/winter/workspace/python/.git/hooks/fsmonitor-watchman.sample\n",
      "\t/Users/winter/workspace/python/.git/hooks/pre-receive.sample\n",
      "\t/Users/winter/workspace/python/.git/hooks/prepare-commit-msg.sample\n",
      "\t/Users/winter/workspace/python/.git/hooks/post-update.sample\n",
      "\t/Users/winter/workspace/python/.git/hooks/pre-merge-commit.sample\n",
      "\t/Users/winter/workspace/python/.git/hooks/pre-applypatch.sample\n",
      "\t/Users/winter/workspace/python/.git/hooks/pre-push.sample\n",
      "\t/Users/winter/workspace/python/.git/hooks/update.sample\n",
      "[/Users/winter/workspace/python/.git/refs]\n",
      "[/Users/winter/workspace/python/.git/refs/heads]\n",
      "\t/Users/winter/workspace/python/.git/refs/heads/master\n",
      "[/Users/winter/workspace/python/.git/refs/tags]\n",
      "[/Users/winter/workspace/python/.git/refs/remotes]\n",
      "[/Users/winter/workspace/python/.git/refs/remotes/origin]\n",
      "\t/Users/winter/workspace/python/.git/refs/remotes/origin/master\n",
      "\t/Users/winter/workspace/python/.git/index\n",
      "\t/Users/winter/workspace/python/.git/COMMIT_EDITMSG\n"
     ]
    }
   ],
   "source": [
    "dumpdir(\"/Users/winter/workspace/python\")"
   ]
  },
  {
   "cell_type": "markdown",
   "metadata": {},
   "source": [
    "### find(), endswith(), strip()"
   ]
  },
  {
   "cell_type": "markdown",
   "metadata": {},
   "source": [
    "\"-\" 을 경계로 파일이름 뒤집기"
   ]
  },
  {
   "cell_type": "code",
   "execution_count": 52,
   "metadata": {},
   "outputs": [
    {
     "name": "stdout",
     "output_type": "stream",
     "text": [
      "All about-멜로디데이.mp3\n",
      "너랑 나-아이유.mp3\n",
      "강남스타일-싸이.mp3\n",
      "서약-알리.mp3\n",
      "안녕이라고 말하지마-다비치.mp3\n"
     ]
    }
   ],
   "source": [
    "import os\n",
    "\n",
    "path = \"/Users/winter/workspace/campus/test\"\n",
    "files = os.listdir(path)\n",
    "for f in files:\n",
    "    if (f.find(\"-\") and f.endswith(\".mp3\")):\n",
    "        name = f[0:-4]\n",
    "        ext = f[-4:]\n",
    "        part = name.split(\"-\")\n",
    "        newname = part[1].strip() + \"-\" + part[0].strip() + ext # strip() 으로 공백 제거\n",
    "        print(newname)\n",
    "        os.rename(path + \"/\" + f, path + \"/\" + newname)"
   ]
  },
  {
   "cell_type": "markdown",
   "metadata": {},
   "source": [
    "## 데이터베이스"
   ]
  },
  {
   "cell_type": "markdown",
   "metadata": {},
   "source": [
    "데이터베이스 사용 순서\n",
    "\n",
    "    1. 메모리에 올려놓음: import sqlite3\n",
    "    2. 데이터 연결: sqlite3.connect()\n",
    "    3. 커서 객체 생성: cursor()\n",
    "    4. execute(): SQL 명령 수행\n",
    "       - 데이터 조회(검색) cursor.fetch\n",
    "       - 삽입, 수정 (SQL문)\n",
    "    5. close()"
   ]
  },
  {
   "cell_type": "markdown",
   "metadata": {},
   "source": [
    "    1) DB 관련 import\n",
    "    2) 테이블 생성\n",
    "    3) 조회(검색)\n",
    "    4) 수정\n",
    "    5) 삽입\n",
    "    6) 삭제"
   ]
  },
  {
   "cell_type": "code",
   "execution_count": 1,
   "metadata": {},
   "outputs": [],
   "source": [
    "import sqlite3\n",
    "\n",
    "con = sqlite3.connect('addr.db')\n",
    "#sqlite의 특징: db명을 써줘야 함\n",
    "#다른 db는 호스트id(접속서버), 포트, 사용자id, 사용자password 등을 입력해야함\n",
    "cursor = con.cursor() #커서 객체 생성\n",
    "\n",
    "cursor.execute(\"DROP TABLE IF EXISTS tblAddr\")\n",
    "cursor.execute(\"\"\"CREATE TABLE tblAddr\n",
    "(name CHAR(16) PRIMARY KEY, phone CHAR(16),addr TEXT)\"\"\")\n",
    "\n",
    "cursor.execute(\"INSERT INTO tblAddr VALUES ('김상형', '123-4567', '오산')\")\n",
    "cursor.execute(\"INSERT INTO tblAddr VALUES ('한경은', '555-1004', '수원')\")\n",
    "cursor.execute(\"INSERT INTO tblAddr VALUES ('한주완', '444-1092', '대전')\")\n",
    "\n",
    "con.commit()\n",
    "\n",
    "cursor.close()\n",
    "con.close()"
   ]
  },
  {
   "cell_type": "markdown",
   "metadata": {},
   "source": [
    "### fetchall(): 모든 레코드 한꺼번에 읽어 리스트로 반환"
   ]
  },
  {
   "cell_type": "code",
   "execution_count": 2,
   "metadata": {},
   "outputs": [
    {
     "name": "stdout",
     "output_type": "stream",
     "text": [
      "이름 : 김상형, 전화 : 123-4567, 주소 : 오산\n",
      "이름 : 한경은, 전화 : 555-1004, 주소 : 수원\n",
      "이름 : 한주완, 전화 : 444-1092, 주소 : 대전\n"
     ]
    }
   ],
   "source": [
    "import sqlite3\n",
    "\n",
    "con = sqlite3.connect('addr.db')\n",
    "cursor = con.cursor()\n",
    "\n",
    "cursor.execute(\"SELECT * FROM tblAddr\")\n",
    "table = cursor.fetchall() # 하나만? fetchone() 반복문\n",
    "for record in table:\n",
    "    print(\"이름 : %s, 전화 : %s, 주소 : %s\" % record)\n",
    "\n",
    "cursor.close()\n",
    "con.close()"
   ]
  },
  {
   "cell_type": "markdown",
   "metadata": {},
   "source": [
    "### fetchone(): 한 레코드씩 순서대로 읽음"
   ]
  },
  {
   "cell_type": "markdown",
   "metadata": {},
   "source": [
    "SELECT FROM"
   ]
  },
  {
   "cell_type": "code",
   "execution_count": 3,
   "metadata": {},
   "outputs": [
    {
     "name": "stdout",
     "output_type": "stream",
     "text": [
      "이름 : 김상형, 전화 : 123-4567, 주소 : 오산\n",
      "이름 : 한경은, 전화 : 555-1004, 주소 : 수원\n",
      "이름 : 한주완, 전화 : 444-1092, 주소 : 대전\n"
     ]
    }
   ],
   "source": [
    "import sqlite3\n",
    "\n",
    "con = sqlite3.connect('addr.db')\n",
    "cursor = con.cursor()\n",
    "\n",
    "cursor.execute(\"SELECT * FROM tblAddr\")\n",
    "while True:\n",
    "    record = cursor.fetchone()\n",
    "    if record == None:\n",
    "        break\n",
    "    print(\"이름 : %s, 전화 : %s, 주소 : %s\" % record)\n",
    "\n",
    "cursor.close()\n",
    "con.close()"
   ]
  },
  {
   "cell_type": "markdown",
   "metadata": {},
   "source": [
    "ORDER BY"
   ]
  },
  {
   "cell_type": "code",
   "execution_count": 4,
   "metadata": {},
   "outputs": [
    {
     "name": "stdout",
     "output_type": "stream",
     "text": [
      "이름 : 한주완, 전화 : 444-1092, 주소 : 대전\n",
      "이름 : 한경은, 전화 : 555-1004, 주소 : 수원\n",
      "이름 : 김상형, 전화 : 123-4567, 주소 : 오산\n"
     ]
    }
   ],
   "source": [
    "import sqlite3\n",
    "\n",
    "con = sqlite3.connect('addr.db')\n",
    "cursor = con.cursor()\n",
    "\n",
    "cursor.execute(\"SELECT * FROM tblAddr ORDER BY addr\")\n",
    "while True:\n",
    "    record = cursor.fetchone()\n",
    "    if record == None:\n",
    "        break\n",
    "    print(\"이름 : %s, 전화 : %s, 주소 : %s\" % record)\n",
    "\n",
    "cursor.close()\n",
    "con.close()"
   ]
  },
  {
   "cell_type": "markdown",
   "metadata": {},
   "source": [
    "WHERE"
   ]
  },
  {
   "cell_type": "code",
   "execution_count": 6,
   "metadata": {},
   "outputs": [
    {
     "name": "stdout",
     "output_type": "stream",
     "text": [
      "김상형은 오산에 살고 있습니다.\n"
     ]
    }
   ],
   "source": [
    "import sqlite3\n",
    "\n",
    "con = sqlite3.connect('addr.db')\n",
    "cursor = con.cursor()\n",
    "\n",
    "cursor.execute(\"SELECT addr FROM tblAddr WHERE name = '김상형'\")\n",
    "record = cursor.fetchone()\n",
    "print(\"김상형은 %s에 살고 있습니다.\" % record)\n",
    "\n",
    "cursor.close()\n",
    "con.close()"
   ]
  },
  {
   "cell_type": "markdown",
   "metadata": {},
   "source": [
    "### 수정 및 삭제\n",
    "\n",
    "#### 특정 필드값 수정"
   ]
  },
  {
   "cell_type": "markdown",
   "metadata": {},
   "source": [
    "### UPDATE"
   ]
  },
  {
   "cell_type": "code",
   "execution_count": 7,
   "metadata": {},
   "outputs": [],
   "source": [
    "con = sqlite3.connect('addr.db')\n",
    "cursor = con.cursor()\n",
    "\n",
    "cursor.execute(\"UPDATE tblAddr SET addr = '제주도' WHERE name = '김상형'\")\n",
    "\n",
    "con.commit()\n",
    "\n",
    "cursor.close()\n",
    "con.close()"
   ]
  },
  {
   "cell_type": "markdown",
   "metadata": {},
   "source": [
    "## 클래스"
   ]
  },
  {
   "cell_type": "markdown",
   "metadata": {},
   "source": [
    "### 객체지향 언어: class 지원\n",
    "    - 캡슐화\n",
    "    - 추상화\n",
    "    - 상속\n",
    "    - 다형성"
   ]
  },
  {
   "cell_type": "code",
   "execution_count": 8,
   "metadata": {},
   "outputs": [
    {
     "name": "stdout",
     "output_type": "stream",
     "text": [
      "잔액은 9000원입니다.\n"
     ]
    }
   ],
   "source": [
    "balance = 8000\n",
    "\n",
    "def deposit(money) :\n",
    "    global balance\n",
    "    balance += money\n",
    "    \n",
    "def inquire() :\n",
    "    print(\"잔액은 %d원입니다.\" % balance)\n",
    "\n",
    "deposit(1000)\n",
    "inquire()"
   ]
  },
  {
   "cell_type": "code",
   "execution_count": 9,
   "metadata": {},
   "outputs": [
    {
     "name": "stdout",
     "output_type": "stream",
     "text": [
      "잔액은 9000원입니다.\n"
     ]
    }
   ],
   "source": [
    "class Account :\n",
    "    def __init__(self, balance) :\n",
    "        self.balance = balance\n",
    "    def deposit(self, money) :\n",
    "        self.balance += money\n",
    "    def inquire(self) :\n",
    "        print(\"잔액은 %d원입니다.\" % self.balance)\n",
    "\n",
    "sinhan = Account(8000)\n",
    "sinhan.deposit(1000)\n",
    "sinhan.inquire()"
   ]
  },
  {
   "cell_type": "code",
   "execution_count": 10,
   "metadata": {},
   "outputs": [
    {
     "name": "stdout",
     "output_type": "stream",
     "text": [
      "잔액은 1200000원입니다.\n"
     ]
    }
   ],
   "source": [
    "nonghyup = Account(1200000)\n",
    "nonghyup.inquire()"
   ]
  },
  {
   "cell_type": "code",
   "execution_count": 11,
   "metadata": {},
   "outputs": [],
   "source": [
    "class Human :\n",
    "    def __init__(self, age, name) :\n",
    "        self.age = age\n",
    "        self.name = name\n",
    "    def intro(self) :\n",
    "        print(str(self.age) + \"살 \" + self.name + \"입니다.\")"
   ]
  },
  {
   "cell_type": "code",
   "execution_count": 12,
   "metadata": {},
   "outputs": [
    {
     "name": "stdout",
     "output_type": "stream",
     "text": [
      "29살 김상형입니다.\n",
      "45살 이승우입니다.\n"
     ]
    }
   ],
   "source": [
    "kim = Human(29, \"김상형\")\n",
    "kim.intro()\n",
    "lee = Human(45, \"이승우\")\n",
    "lee.intro()"
   ]
  },
  {
   "cell_type": "markdown",
   "metadata": {},
   "source": [
    "### 상속: 부모클래스의 메소드를 모두 쓸 수 있다"
   ]
  },
  {
   "cell_type": "markdown",
   "metadata": {},
   "source": [
    "Human 밑에 Student 자식 클래스를 만듦"
   ]
  },
  {
   "cell_type": "code",
   "execution_count": 14,
   "metadata": {},
   "outputs": [],
   "source": [
    "class Human :\n",
    "    def __init__(self, age, name) :\n",
    "        self.age = age\n",
    "        self.name = name\n",
    "        \n",
    "    def intro(self) :\n",
    "        print(str(self.age) + \"살 \" + self.name + \"입니다.\")\n",
    "        \n",
    "class Student(Human) :\n",
    "    def __init__(self, age, name, stunum) :\n",
    "        super().__init__(age, name)\n",
    "        self.stunum = stunum\n",
    "        \n",
    "    def study(self) :\n",
    "        print(\"하늘천 따지 검을현 누를황\")"
   ]
  },
  {
   "cell_type": "code",
   "execution_count": 15,
   "metadata": {},
   "outputs": [
    {
     "name": "stdout",
     "output_type": "stream",
     "text": [
      "29살 김상형입니다.\n",
      "34살 이승우입니다.\n",
      "하늘천 따지 검을현 누를황\n"
     ]
    }
   ],
   "source": [
    "kim = Human(29, \"김상형\")\n",
    "kim.intro()\n",
    "lee = Student(34, \"이승우\", 930011)\n",
    "lee.intro()\n",
    "lee.study()"
   ]
  },
  {
   "cell_type": "code",
   "execution_count": 16,
   "metadata": {},
   "outputs": [],
   "source": [
    "class Date :\n",
    "    def __init__(self, month) :\n",
    "        self.month = month\n",
    "    def getmonth(self) :\n",
    "        return self.month\n",
    "    def setmonth(self, month) :\n",
    "        if 1 <= month <= 12 :\n",
    "            self.month = month"
   ]
  },
  {
   "cell_type": "code",
   "execution_count": 17,
   "metadata": {},
   "outputs": [
    {
     "name": "stdout",
     "output_type": "stream",
     "text": [
      "8\n"
     ]
    }
   ],
   "source": [
    "today = Date(8)\n",
    "today.setmonth(15)\n",
    "print(today.getmonth())\n",
    "\n",
    "# 15로 세팅하려고 하면 default 인 8이 출력된다"
   ]
  },
  {
   "cell_type": "code",
   "execution_count": 20,
   "metadata": {},
   "outputs": [],
   "source": [
    "class Date :\n",
    "    def __init__(self, month) :\n",
    "        self.inner_month = month\n",
    "    @property       \n",
    "    def month(self) :\n",
    "        return self.inner_month\n",
    "    @month.setter\n",
    "    def month(self, month) :\n",
    "        if 1 <= month <= 12 :\n",
    "            self.inner_month = month"
   ]
  },
  {
   "cell_type": "code",
   "execution_count": 21,
   "metadata": {},
   "outputs": [],
   "source": [
    "class Car :\n",
    "    count = 0\n",
    "    def __init__(self, name) :\n",
    "        self.name = name\n",
    "        Car.count += 1\n",
    "    \n",
    "    @classmethod\n",
    "    def outcount(cls) :\n",
    "        print(cls.count)"
   ]
  },
  {
   "cell_type": "code",
   "execution_count": 22,
   "metadata": {},
   "outputs": [
    {
     "name": "stdout",
     "output_type": "stream",
     "text": [
      "2\n"
     ]
    }
   ],
   "source": [
    "pride = Car(\"프라이드\")\n",
    "korando = Car(\"코란도\")\n",
    "Car.outcount()"
   ]
  },
  {
   "cell_type": "markdown",
   "metadata": {},
   "source": [
    "### 정적메소드"
   ]
  },
  {
   "cell_type": "code",
   "execution_count": 23,
   "metadata": {},
   "outputs": [],
   "source": [
    "class Car :\n",
    "    @staticmethod\n",
    "    def hello() :\n",
    "        print(\"오늘도 안전운행 합시다.\")\n",
    "    count = 0\n",
    "    def __init__(self, name) :\n",
    "        self.name = name\n",
    "        Car.count += 1\n",
    "        \n",
    "    @classmethod\n",
    "    def outcount(cls) :\n",
    "        print(cls.count)"
   ]
  },
  {
   "cell_type": "code",
   "execution_count": 24,
   "metadata": {},
   "outputs": [
    {
     "name": "stdout",
     "output_type": "stream",
     "text": [
      "오늘도 안전운행 합시다.\n"
     ]
    }
   ],
   "source": [
    "Car.hello()"
   ]
  },
  {
   "cell_type": "code",
   "execution_count": 25,
   "metadata": {},
   "outputs": [],
   "source": [
    "class Human :\n",
    "    def __init__(self, age, name) :\n",
    "        self.age = age\n",
    "        self.name = name\n",
    "    def __eq__(self, other) :\n",
    "        return self.age == other.age and self.name == other.name"
   ]
  },
  {
   "cell_type": "code",
   "execution_count": 26,
   "metadata": {},
   "outputs": [
    {
     "name": "stdout",
     "output_type": "stream",
     "text": [
      "True\n",
      "False\n"
     ]
    }
   ],
   "source": [
    "kim = Human(29, \"김상형\")\n",
    "sang = Human(29, \"김상형\")\n",
    "moon = Human(44, \"문종민\")\n",
    "print(kim == sang)\n",
    "print(kim == moon)"
   ]
  },
  {
   "cell_type": "markdown",
   "metadata": {},
   "source": [
    "### 특수메서드"
   ]
  },
  {
   "cell_type": "markdown",
   "metadata": {},
   "source": [
    "### __str__"
   ]
  },
  {
   "cell_type": "code",
   "execution_count": 27,
   "metadata": {},
   "outputs": [],
   "source": [
    "class Human :\n",
    "    def __init__(self, age, name) :\n",
    "        self.age = age\n",
    "        self.name = name\n",
    "    def __str__(self) :\n",
    "        return \"이름 %s, 나이 %d\" %(self.name, self.age)"
   ]
  },
  {
   "cell_type": "code",
   "execution_count": 28,
   "metadata": {},
   "outputs": [
    {
     "name": "stdout",
     "output_type": "stream",
     "text": [
      "이름 김상형, 나이 29\n"
     ]
    }
   ],
   "source": [
    "kim = Human(29, \"김상형\")\n",
    "print(kim)"
   ]
  },
  {
   "cell_type": "markdown",
   "metadata": {},
   "source": [
    "### __len__"
   ]
  },
  {
   "cell_type": "code",
   "execution_count": 29,
   "metadata": {},
   "outputs": [],
   "source": [
    "class Human :\n",
    "    def __init__(self, age, name) :\n",
    "        self.age = age\n",
    "        self.name = name\n",
    "    def __len__(self) :\n",
    "        return self.age"
   ]
  },
  {
   "cell_type": "code",
   "execution_count": 30,
   "metadata": {},
   "outputs": [
    {
     "name": "stdout",
     "output_type": "stream",
     "text": [
      "29\n"
     ]
    }
   ],
   "source": [
    "kim = Human(29, \"김상형\")\n",
    "print(len(kim))"
   ]
  },
  {
   "cell_type": "markdown",
   "metadata": {},
   "source": [
    "## 유틸리티 클래스"
   ]
  },
  {
   "cell_type": "markdown",
   "metadata": {},
   "source": [
    "### Decimal"
   ]
  },
  {
   "cell_type": "code",
   "execution_count": 33,
   "metadata": {},
   "outputs": [
    {
     "name": "stdout",
     "output_type": "stream",
     "text": [
      "9.99999999999998\n"
     ]
    }
   ],
   "source": [
    "f = 0.1\n",
    "sum = 0\n",
    "\n",
    "for i in range(100) :\n",
    "    sum += f\n",
    "print(sum)\n",
    "\n",
    "# 오차가 있음"
   ]
  },
  {
   "cell_type": "code",
   "execution_count": 34,
   "metadata": {},
   "outputs": [
    {
     "name": "stdout",
     "output_type": "stream",
     "text": [
      "10.0\n"
     ]
    }
   ],
   "source": [
    "from decimal import Decimal\n",
    "\n",
    "f = Decimal('0.1')\n",
    "sum = 0\n",
    "\n",
    "for i in range(100) :\n",
    "    sum += f\n",
    "print(sum)"
   ]
  },
  {
   "cell_type": "markdown",
   "metadata": {},
   "source": [
    "### Context: getcontext / setcontext"
   ]
  },
  {
   "cell_type": "markdown",
   "metadata": {},
   "source": [
    "BasicContext / ExtendedContext / DefaultContext"
   ]
  },
  {
   "cell_type": "code",
   "execution_count": 35,
   "metadata": {},
   "outputs": [
    {
     "name": "stdout",
     "output_type": "stream",
     "text": [
      "1.23456790E+18\n",
      "1234567900987654321\n"
     ]
    }
   ],
   "source": [
    "from decimal import *\n",
    "\n",
    "a = Decimal('1111111111')\n",
    "b = Decimal('1111111111')\n",
    "\n",
    "setcontext(BasicContext)\n",
    "c = a * b\n",
    "print(c)\n",
    "\n",
    "setcontext(DefaultContext)\n",
    "c = a * b\n",
    "print(c)"
   ]
  },
  {
   "cell_type": "markdown",
   "metadata": {},
   "source": [
    "### fractions: 유리수 표현"
   ]
  },
  {
   "cell_type": "code",
   "execution_count": 36,
   "metadata": {},
   "outputs": [
    {
     "name": "stdout",
     "output_type": "stream",
     "text": [
      "1/3\n",
      "4/7\n"
     ]
    }
   ],
   "source": [
    "from fractions import *\n",
    "\n",
    "a = Fraction(1,3)\n",
    "print(a)\n",
    "b = Fraction(8,14)\n",
    "print(b)"
   ]
  },
  {
   "cell_type": "code",
   "execution_count": 37,
   "metadata": {},
   "outputs": [
    {
     "name": "stdout",
     "output_type": "stream",
     "text": [
      "19/15\n",
      "1.3666666666666667\n"
     ]
    }
   ],
   "source": [
    "# 유리수 계산\n",
    "\n",
    "a = Fraction(2,3)\n",
    "b = Fraction(3, 5)\n",
    "c = a + b\n",
    "print(c)\n",
    "\n",
    "d = c + 0.1\n",
    "print(d) # 실수형과 함께 쓰면 실수로 표현됨"
   ]
  },
  {
   "cell_type": "markdown",
   "metadata": {},
   "source": [
    "### array"
   ]
  },
  {
   "cell_type": "code",
   "execution_count": 38,
   "metadata": {},
   "outputs": [
    {
     "name": "stdout",
     "output_type": "stream",
     "text": [
      "33,44,67,89,56,\n",
      "ar[1]=  67\n",
      "array('i', [89, 56])\n"
     ]
    }
   ],
   "source": [
    "import array\n",
    "\n",
    "ar = array.array('i' , [33, 44, 67, 89, 56])\n",
    "\n",
    "for a in ar :\n",
    "    print(a, end = ',')\n",
    "ar.append(100)            # 추가\n",
    "del ar[0]                 # 삭제\n",
    "print(\"\\nar[1]= \", ar[1]) # 첨자 참조\n",
    "print(ar[2:4])            # 슬라이스"
   ]
  },
  {
   "cell_type": "code",
   "execution_count": null,
   "metadata": {},
   "outputs": [],
   "source": []
  }
 ],
 "metadata": {
  "kernelspec": {
   "display_name": "Python 3",
   "language": "python",
   "name": "python3"
  },
  "language_info": {
   "codemirror_mode": {
    "name": "ipython",
    "version": 3
   },
   "file_extension": ".py",
   "mimetype": "text/x-python",
   "name": "python",
   "nbconvert_exporter": "python",
   "pygments_lexer": "ipython3",
   "version": "3.9.0"
  }
 },
 "nbformat": 4,
 "nbformat_minor": 4
}
